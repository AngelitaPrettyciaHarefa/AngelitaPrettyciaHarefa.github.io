{
  "nbformat": 4,
  "nbformat_minor": 0,
  "metadata": {
    "colab": {
      "provenance": [],
      "authorship_tag": "ABX9TyP5izJIYxWRFuNAJIYjKYJU",
      "include_colab_link": true
    },
    "kernelspec": {
      "name": "python3",
      "display_name": "Python 3"
    },
    "language_info": {
      "name": "python"
    }
  },
  "cells": [
    {
      "cell_type": "markdown",
      "metadata": {
        "id": "view-in-github",
        "colab_type": "text"
      },
      "source": [
        "<a href=\"https://colab.research.google.com/github/AngelitaPrettyciaHarefa/AngelitaPrettyciaHarefa.github.io/blob/main/Final.ipynb\" target=\"_parent\"><img src=\"https://colab.research.google.com/assets/colab-badge.svg\" alt=\"Open In Colab\"/></a>"
      ]
    },
    {
      "cell_type": "markdown",
      "source": [
        "# SCRAPING DATA APK ASM ONLINE"
      ],
      "metadata": {
        "id": "tHSznsP4MRYf"
      }
    },
    {
      "cell_type": "code",
      "execution_count": null,
      "metadata": {
        "id": "0C1uIaC6LsM6"
      },
      "outputs": [],
      "source": [
        "!pip install -qq google-play-scraper                                            #Instal google-play-scraper    "
      ]
    },
    {
      "cell_type": "code",
      "source": [
        "import pandas as pd                                                             #Import Library\n",
        "import json\n",
        "\n",
        "from tqdm import tqdm\n",
        "from google_play_scraper import Sort, reviews, app\n",
        "from pygments import highlight\n",
        "from pygments.lexers import JsonLexer\n",
        "from pygments.formatters import TerminalFormatter"
      ],
      "metadata": {
        "id": "7P4ixtJsLw3Y"
      },
      "execution_count": null,
      "outputs": []
    },
    {
      "cell_type": "code",
      "source": [
        "from google.colab import drive                                                  #Untuk Akses GDrive\n",
        "drive.mount('/content/gdrive', force_remount=True)\n",
        "path = \"gdrive/MyDrive/CODING SKRIPSI/\""
      ],
      "metadata": {
        "id": "3qCPVQIfRUlM"
      },
      "execution_count": null,
      "outputs": []
    },
    {
      "cell_type": "code",
      "source": [
        "app_packages = [                                                                #Package yang mau di ambil datanya\n",
        "    'com.simasmobile.co.id'\n",
        "]"
      ],
      "metadata": {
        "id": "MSoxjj6ERm4c"
      },
      "execution_count": null,
      "outputs": []
    },
    {
      "cell_type": "code",
      "source": [
        "app_infos = []                                                                  #Filter package berdasatkan bahasa dan negara\n",
        "\n",
        "for application in tqdm(app_packages):\n",
        "  info = app(application, lang='id', country='id')\n",
        "  del info['comments']\n",
        "  app_infos.append(info)"
      ],
      "metadata": {
        "id": "_iYJlwrlRnn8"
      },
      "execution_count": null,
      "outputs": []
    },
    {
      "cell_type": "code",
      "source": [
        "app_reviews = []                                                                #Untuk Print Datanya\n",
        "\n",
        "for ap in tqdm(app_packages):\n",
        "  for score in list(range(1,6)):\n",
        "    for sort_order in [Sort.MOST_RELEVANT]:\n",
        "      rvs, _ = reviews(\n",
        "          ap,\n",
        "          lang='id',\n",
        "          country='id',\n",
        "          sort=sort_order,\n",
        "          count=1000,\n",
        "          filter_score_with = None\n",
        "      )\n",
        "      for r in rvs:\n",
        "        r['sortOrder'] = 'most_relevant'\n",
        "        r['appId'] = ap\n",
        "      app_reviews.extend(rvs)"
      ],
      "metadata": {
        "colab": {
          "base_uri": "https://localhost:8080/"
        },
        "id": "rsBPHUAGR18B",
        "outputId": "9455d896-08e4-49bb-8302-c453869b7ac9"
      },
      "execution_count": null,
      "outputs": [
        {
          "output_type": "stream",
          "name": "stderr",
          "text": [
            "100%|██████████| 1/1 [00:02<00:00,  2.28s/it]\n"
          ]
        }
      ]
    },
    {
      "cell_type": "code",
      "source": [
        "app_reviews_df = pd.DataFrame(app_reviews)                                      #Mendefinisikan data ke dalam DataFrameapp_reviews"
      ],
      "metadata": {
        "id": "xeWU43knR2Gb"
      },
      "execution_count": null,
      "outputs": []
    },
    {
      "cell_type": "code",
      "source": [
        "app_reviews_df = app_reviews_df.sort_values(by='at', ascending=False)           #Mengurutkan data berdasarkan \"At\" atau tanggal"
      ],
      "metadata": {
        "id": "iIhLcEgSSqYX"
      },
      "execution_count": null,
      "outputs": []
    },
    {
      "cell_type": "code",
      "source": [
        "app_reviews_df.to_csv(path+'ScrapingData.csv', index=None, header=True)         #Set nama file datanya"
      ],
      "metadata": {
        "id": "kpUw554jSqbM"
      },
      "execution_count": null,
      "outputs": []
    },
    {
      "cell_type": "code",
      "source": [
        "app_reviews_df.head()"
      ],
      "metadata": {
        "colab": {
          "base_uri": "https://localhost:8080/",
          "height": 337
        },
        "id": "IlY5Zq2ch00I",
        "outputId": "7ca2b275-f7c6-4e87-8925-9a7a29b13bba"
      },
      "execution_count": null,
      "outputs": [
        {
          "output_type": "execute_result",
          "data": {
            "text/plain": [
              "                                  reviewId           userName  \\\n",
              "1716  0c5637c6-3086-475f-a656-2ec4cdce2d5c  Ronarja Zacharias   \n",
              "2193  0c5637c6-3086-475f-a656-2ec4cdce2d5c  Ronarja Zacharias   \n",
              "762   0c5637c6-3086-475f-a656-2ec4cdce2d5c  Ronarja Zacharias   \n",
              "1239  0c5637c6-3086-475f-a656-2ec4cdce2d5c  Ronarja Zacharias   \n",
              "285   0c5637c6-3086-475f-a656-2ec4cdce2d5c  Ronarja Zacharias   \n",
              "\n",
              "                                              userImage    content  score  \\\n",
              "1716  https://play-lh.googleusercontent.com/a-/AD_cM...  Terbaik👍👍      5   \n",
              "2193  https://play-lh.googleusercontent.com/a-/AD_cM...  Terbaik👍👍      5   \n",
              "762   https://play-lh.googleusercontent.com/a-/AD_cM...  Terbaik👍👍      5   \n",
              "1239  https://play-lh.googleusercontent.com/a-/AD_cM...  Terbaik👍👍      5   \n",
              "285   https://play-lh.googleusercontent.com/a-/AD_cM...  Terbaik👍👍      5   \n",
              "\n",
              "      thumbsUpCount reviewCreatedVersion                  at replyContent  \\\n",
              "1716              0               3.0238 2023-05-26 12:50:48         None   \n",
              "2193              0               3.0238 2023-05-26 12:50:48         None   \n",
              "762               0               3.0238 2023-05-26 12:50:48         None   \n",
              "1239              0               3.0238 2023-05-26 12:50:48         None   \n",
              "285               0               3.0238 2023-05-26 12:50:48         None   \n",
              "\n",
              "     repliedAt appVersion      sortOrder                  appId  \n",
              "1716      None     3.0238  most_relevant  com.simasmobile.co.id  \n",
              "2193      None     3.0238  most_relevant  com.simasmobile.co.id  \n",
              "762       None     3.0238  most_relevant  com.simasmobile.co.id  \n",
              "1239      None     3.0238  most_relevant  com.simasmobile.co.id  \n",
              "285       None     3.0238  most_relevant  com.simasmobile.co.id  "
            ],
            "text/html": [
              "\n",
              "  <div id=\"df-4a1dccd3-db3c-438c-aee3-71efd080bdeb\">\n",
              "    <div class=\"colab-df-container\">\n",
              "      <div>\n",
              "<style scoped>\n",
              "    .dataframe tbody tr th:only-of-type {\n",
              "        vertical-align: middle;\n",
              "    }\n",
              "\n",
              "    .dataframe tbody tr th {\n",
              "        vertical-align: top;\n",
              "    }\n",
              "\n",
              "    .dataframe thead th {\n",
              "        text-align: right;\n",
              "    }\n",
              "</style>\n",
              "<table border=\"1\" class=\"dataframe\">\n",
              "  <thead>\n",
              "    <tr style=\"text-align: right;\">\n",
              "      <th></th>\n",
              "      <th>reviewId</th>\n",
              "      <th>userName</th>\n",
              "      <th>userImage</th>\n",
              "      <th>content</th>\n",
              "      <th>score</th>\n",
              "      <th>thumbsUpCount</th>\n",
              "      <th>reviewCreatedVersion</th>\n",
              "      <th>at</th>\n",
              "      <th>replyContent</th>\n",
              "      <th>repliedAt</th>\n",
              "      <th>appVersion</th>\n",
              "      <th>sortOrder</th>\n",
              "      <th>appId</th>\n",
              "    </tr>\n",
              "  </thead>\n",
              "  <tbody>\n",
              "    <tr>\n",
              "      <th>1716</th>\n",
              "      <td>0c5637c6-3086-475f-a656-2ec4cdce2d5c</td>\n",
              "      <td>Ronarja Zacharias</td>\n",
              "      <td>https://play-lh.googleusercontent.com/a-/AD_cM...</td>\n",
              "      <td>Terbaik👍👍</td>\n",
              "      <td>5</td>\n",
              "      <td>0</td>\n",
              "      <td>3.0238</td>\n",
              "      <td>2023-05-26 12:50:48</td>\n",
              "      <td>None</td>\n",
              "      <td>None</td>\n",
              "      <td>3.0238</td>\n",
              "      <td>most_relevant</td>\n",
              "      <td>com.simasmobile.co.id</td>\n",
              "    </tr>\n",
              "    <tr>\n",
              "      <th>2193</th>\n",
              "      <td>0c5637c6-3086-475f-a656-2ec4cdce2d5c</td>\n",
              "      <td>Ronarja Zacharias</td>\n",
              "      <td>https://play-lh.googleusercontent.com/a-/AD_cM...</td>\n",
              "      <td>Terbaik👍👍</td>\n",
              "      <td>5</td>\n",
              "      <td>0</td>\n",
              "      <td>3.0238</td>\n",
              "      <td>2023-05-26 12:50:48</td>\n",
              "      <td>None</td>\n",
              "      <td>None</td>\n",
              "      <td>3.0238</td>\n",
              "      <td>most_relevant</td>\n",
              "      <td>com.simasmobile.co.id</td>\n",
              "    </tr>\n",
              "    <tr>\n",
              "      <th>762</th>\n",
              "      <td>0c5637c6-3086-475f-a656-2ec4cdce2d5c</td>\n",
              "      <td>Ronarja Zacharias</td>\n",
              "      <td>https://play-lh.googleusercontent.com/a-/AD_cM...</td>\n",
              "      <td>Terbaik👍👍</td>\n",
              "      <td>5</td>\n",
              "      <td>0</td>\n",
              "      <td>3.0238</td>\n",
              "      <td>2023-05-26 12:50:48</td>\n",
              "      <td>None</td>\n",
              "      <td>None</td>\n",
              "      <td>3.0238</td>\n",
              "      <td>most_relevant</td>\n",
              "      <td>com.simasmobile.co.id</td>\n",
              "    </tr>\n",
              "    <tr>\n",
              "      <th>1239</th>\n",
              "      <td>0c5637c6-3086-475f-a656-2ec4cdce2d5c</td>\n",
              "      <td>Ronarja Zacharias</td>\n",
              "      <td>https://play-lh.googleusercontent.com/a-/AD_cM...</td>\n",
              "      <td>Terbaik👍👍</td>\n",
              "      <td>5</td>\n",
              "      <td>0</td>\n",
              "      <td>3.0238</td>\n",
              "      <td>2023-05-26 12:50:48</td>\n",
              "      <td>None</td>\n",
              "      <td>None</td>\n",
              "      <td>3.0238</td>\n",
              "      <td>most_relevant</td>\n",
              "      <td>com.simasmobile.co.id</td>\n",
              "    </tr>\n",
              "    <tr>\n",
              "      <th>285</th>\n",
              "      <td>0c5637c6-3086-475f-a656-2ec4cdce2d5c</td>\n",
              "      <td>Ronarja Zacharias</td>\n",
              "      <td>https://play-lh.googleusercontent.com/a-/AD_cM...</td>\n",
              "      <td>Terbaik👍👍</td>\n",
              "      <td>5</td>\n",
              "      <td>0</td>\n",
              "      <td>3.0238</td>\n",
              "      <td>2023-05-26 12:50:48</td>\n",
              "      <td>None</td>\n",
              "      <td>None</td>\n",
              "      <td>3.0238</td>\n",
              "      <td>most_relevant</td>\n",
              "      <td>com.simasmobile.co.id</td>\n",
              "    </tr>\n",
              "  </tbody>\n",
              "</table>\n",
              "</div>\n",
              "      <button class=\"colab-df-convert\" onclick=\"convertToInteractive('df-4a1dccd3-db3c-438c-aee3-71efd080bdeb')\"\n",
              "              title=\"Convert this dataframe to an interactive table.\"\n",
              "              style=\"display:none;\">\n",
              "        \n",
              "  <svg xmlns=\"http://www.w3.org/2000/svg\" height=\"24px\"viewBox=\"0 0 24 24\"\n",
              "       width=\"24px\">\n",
              "    <path d=\"M0 0h24v24H0V0z\" fill=\"none\"/>\n",
              "    <path d=\"M18.56 5.44l.94 2.06.94-2.06 2.06-.94-2.06-.94-.94-2.06-.94 2.06-2.06.94zm-11 1L8.5 8.5l.94-2.06 2.06-.94-2.06-.94L8.5 2.5l-.94 2.06-2.06.94zm10 10l.94 2.06.94-2.06 2.06-.94-2.06-.94-.94-2.06-.94 2.06-2.06.94z\"/><path d=\"M17.41 7.96l-1.37-1.37c-.4-.4-.92-.59-1.43-.59-.52 0-1.04.2-1.43.59L10.3 9.45l-7.72 7.72c-.78.78-.78 2.05 0 2.83L4 21.41c.39.39.9.59 1.41.59.51 0 1.02-.2 1.41-.59l7.78-7.78 2.81-2.81c.8-.78.8-2.07 0-2.86zM5.41 20L4 18.59l7.72-7.72 1.47 1.35L5.41 20z\"/>\n",
              "  </svg>\n",
              "      </button>\n",
              "      \n",
              "  <style>\n",
              "    .colab-df-container {\n",
              "      display:flex;\n",
              "      flex-wrap:wrap;\n",
              "      gap: 12px;\n",
              "    }\n",
              "\n",
              "    .colab-df-convert {\n",
              "      background-color: #E8F0FE;\n",
              "      border: none;\n",
              "      border-radius: 50%;\n",
              "      cursor: pointer;\n",
              "      display: none;\n",
              "      fill: #1967D2;\n",
              "      height: 32px;\n",
              "      padding: 0 0 0 0;\n",
              "      width: 32px;\n",
              "    }\n",
              "\n",
              "    .colab-df-convert:hover {\n",
              "      background-color: #E2EBFA;\n",
              "      box-shadow: 0px 1px 2px rgba(60, 64, 67, 0.3), 0px 1px 3px 1px rgba(60, 64, 67, 0.15);\n",
              "      fill: #174EA6;\n",
              "    }\n",
              "\n",
              "    [theme=dark] .colab-df-convert {\n",
              "      background-color: #3B4455;\n",
              "      fill: #D2E3FC;\n",
              "    }\n",
              "\n",
              "    [theme=dark] .colab-df-convert:hover {\n",
              "      background-color: #434B5C;\n",
              "      box-shadow: 0px 1px 3px 1px rgba(0, 0, 0, 0.15);\n",
              "      filter: drop-shadow(0px 1px 2px rgba(0, 0, 0, 0.3));\n",
              "      fill: #FFFFFF;\n",
              "    }\n",
              "  </style>\n",
              "\n",
              "      <script>\n",
              "        const buttonEl =\n",
              "          document.querySelector('#df-4a1dccd3-db3c-438c-aee3-71efd080bdeb button.colab-df-convert');\n",
              "        buttonEl.style.display =\n",
              "          google.colab.kernel.accessAllowed ? 'block' : 'none';\n",
              "\n",
              "        async function convertToInteractive(key) {\n",
              "          const element = document.querySelector('#df-4a1dccd3-db3c-438c-aee3-71efd080bdeb');\n",
              "          const dataTable =\n",
              "            await google.colab.kernel.invokeFunction('convertToInteractive',\n",
              "                                                     [key], {});\n",
              "          if (!dataTable) return;\n",
              "\n",
              "          const docLinkHtml = 'Like what you see? Visit the ' +\n",
              "            '<a target=\"_blank\" href=https://colab.research.google.com/notebooks/data_table.ipynb>data table notebook</a>'\n",
              "            + ' to learn more about interactive tables.';\n",
              "          element.innerHTML = '';\n",
              "          dataTable['output_type'] = 'display_data';\n",
              "          await google.colab.output.renderOutput(dataTable, element);\n",
              "          const docLink = document.createElement('div');\n",
              "          docLink.innerHTML = docLinkHtml;\n",
              "          element.appendChild(docLink);\n",
              "        }\n",
              "      </script>\n",
              "    </div>\n",
              "  </div>\n",
              "  "
            ]
          },
          "metadata": {},
          "execution_count": 150
        }
      ]
    },
    {
      "cell_type": "code",
      "source": [
        "Scraping_Data_ASM = app_reviews_df[['content','score']]"
      ],
      "metadata": {
        "id": "SDWJ-V9OkhgS"
      },
      "execution_count": null,
      "outputs": []
    },
    {
      "cell_type": "code",
      "source": [
        "Scraping_Data_ASM.head()"
      ],
      "metadata": {
        "colab": {
          "base_uri": "https://localhost:8080/",
          "height": 206
        },
        "id": "lZaRHDF9lQCK",
        "outputId": "b6c83c4c-987e-4385-8f24-98af3e346c64"
      },
      "execution_count": null,
      "outputs": [
        {
          "output_type": "execute_result",
          "data": {
            "text/plain": [
              "        content  score\n",
              "1716  Terbaik👍👍      5\n",
              "2193  Terbaik👍👍      5\n",
              "762   Terbaik👍👍      5\n",
              "1239  Terbaik👍👍      5\n",
              "285   Terbaik👍👍      5"
            ],
            "text/html": [
              "\n",
              "  <div id=\"df-2298caf9-af06-450d-b7a6-a821cc8b8ed9\">\n",
              "    <div class=\"colab-df-container\">\n",
              "      <div>\n",
              "<style scoped>\n",
              "    .dataframe tbody tr th:only-of-type {\n",
              "        vertical-align: middle;\n",
              "    }\n",
              "\n",
              "    .dataframe tbody tr th {\n",
              "        vertical-align: top;\n",
              "    }\n",
              "\n",
              "    .dataframe thead th {\n",
              "        text-align: right;\n",
              "    }\n",
              "</style>\n",
              "<table border=\"1\" class=\"dataframe\">\n",
              "  <thead>\n",
              "    <tr style=\"text-align: right;\">\n",
              "      <th></th>\n",
              "      <th>content</th>\n",
              "      <th>score</th>\n",
              "    </tr>\n",
              "  </thead>\n",
              "  <tbody>\n",
              "    <tr>\n",
              "      <th>1716</th>\n",
              "      <td>Terbaik👍👍</td>\n",
              "      <td>5</td>\n",
              "    </tr>\n",
              "    <tr>\n",
              "      <th>2193</th>\n",
              "      <td>Terbaik👍👍</td>\n",
              "      <td>5</td>\n",
              "    </tr>\n",
              "    <tr>\n",
              "      <th>762</th>\n",
              "      <td>Terbaik👍👍</td>\n",
              "      <td>5</td>\n",
              "    </tr>\n",
              "    <tr>\n",
              "      <th>1239</th>\n",
              "      <td>Terbaik👍👍</td>\n",
              "      <td>5</td>\n",
              "    </tr>\n",
              "    <tr>\n",
              "      <th>285</th>\n",
              "      <td>Terbaik👍👍</td>\n",
              "      <td>5</td>\n",
              "    </tr>\n",
              "  </tbody>\n",
              "</table>\n",
              "</div>\n",
              "      <button class=\"colab-df-convert\" onclick=\"convertToInteractive('df-2298caf9-af06-450d-b7a6-a821cc8b8ed9')\"\n",
              "              title=\"Convert this dataframe to an interactive table.\"\n",
              "              style=\"display:none;\">\n",
              "        \n",
              "  <svg xmlns=\"http://www.w3.org/2000/svg\" height=\"24px\"viewBox=\"0 0 24 24\"\n",
              "       width=\"24px\">\n",
              "    <path d=\"M0 0h24v24H0V0z\" fill=\"none\"/>\n",
              "    <path d=\"M18.56 5.44l.94 2.06.94-2.06 2.06-.94-2.06-.94-.94-2.06-.94 2.06-2.06.94zm-11 1L8.5 8.5l.94-2.06 2.06-.94-2.06-.94L8.5 2.5l-.94 2.06-2.06.94zm10 10l.94 2.06.94-2.06 2.06-.94-2.06-.94-.94-2.06-.94 2.06-2.06.94z\"/><path d=\"M17.41 7.96l-1.37-1.37c-.4-.4-.92-.59-1.43-.59-.52 0-1.04.2-1.43.59L10.3 9.45l-7.72 7.72c-.78.78-.78 2.05 0 2.83L4 21.41c.39.39.9.59 1.41.59.51 0 1.02-.2 1.41-.59l7.78-7.78 2.81-2.81c.8-.78.8-2.07 0-2.86zM5.41 20L4 18.59l7.72-7.72 1.47 1.35L5.41 20z\"/>\n",
              "  </svg>\n",
              "      </button>\n",
              "      \n",
              "  <style>\n",
              "    .colab-df-container {\n",
              "      display:flex;\n",
              "      flex-wrap:wrap;\n",
              "      gap: 12px;\n",
              "    }\n",
              "\n",
              "    .colab-df-convert {\n",
              "      background-color: #E8F0FE;\n",
              "      border: none;\n",
              "      border-radius: 50%;\n",
              "      cursor: pointer;\n",
              "      display: none;\n",
              "      fill: #1967D2;\n",
              "      height: 32px;\n",
              "      padding: 0 0 0 0;\n",
              "      width: 32px;\n",
              "    }\n",
              "\n",
              "    .colab-df-convert:hover {\n",
              "      background-color: #E2EBFA;\n",
              "      box-shadow: 0px 1px 2px rgba(60, 64, 67, 0.3), 0px 1px 3px 1px rgba(60, 64, 67, 0.15);\n",
              "      fill: #174EA6;\n",
              "    }\n",
              "\n",
              "    [theme=dark] .colab-df-convert {\n",
              "      background-color: #3B4455;\n",
              "      fill: #D2E3FC;\n",
              "    }\n",
              "\n",
              "    [theme=dark] .colab-df-convert:hover {\n",
              "      background-color: #434B5C;\n",
              "      box-shadow: 0px 1px 3px 1px rgba(0, 0, 0, 0.15);\n",
              "      filter: drop-shadow(0px 1px 2px rgba(0, 0, 0, 0.3));\n",
              "      fill: #FFFFFF;\n",
              "    }\n",
              "  </style>\n",
              "\n",
              "      <script>\n",
              "        const buttonEl =\n",
              "          document.querySelector('#df-2298caf9-af06-450d-b7a6-a821cc8b8ed9 button.colab-df-convert');\n",
              "        buttonEl.style.display =\n",
              "          google.colab.kernel.accessAllowed ? 'block' : 'none';\n",
              "\n",
              "        async function convertToInteractive(key) {\n",
              "          const element = document.querySelector('#df-2298caf9-af06-450d-b7a6-a821cc8b8ed9');\n",
              "          const dataTable =\n",
              "            await google.colab.kernel.invokeFunction('convertToInteractive',\n",
              "                                                     [key], {});\n",
              "          if (!dataTable) return;\n",
              "\n",
              "          const docLinkHtml = 'Like what you see? Visit the ' +\n",
              "            '<a target=\"_blank\" href=https://colab.research.google.com/notebooks/data_table.ipynb>data table notebook</a>'\n",
              "            + ' to learn more about interactive tables.';\n",
              "          element.innerHTML = '';\n",
              "          dataTable['output_type'] = 'display_data';\n",
              "          await google.colab.output.renderOutput(dataTable, element);\n",
              "          const docLink = document.createElement('div');\n",
              "          docLink.innerHTML = docLinkHtml;\n",
              "          element.appendChild(docLink);\n",
              "        }\n",
              "      </script>\n",
              "    </div>\n",
              "  </div>\n",
              "  "
            ]
          },
          "metadata": {},
          "execution_count": 152
        }
      ]
    },
    {
      "cell_type": "code",
      "source": [
        "len(Scraping_Data_ASM)"
      ],
      "metadata": {
        "colab": {
          "base_uri": "https://localhost:8080/"
        },
        "id": "dn9Lv6H03VQ5",
        "outputId": "5d0472f4-2c82-4a95-ed1f-4401174debf0"
      },
      "execution_count": null,
      "outputs": [
        {
          "output_type": "execute_result",
          "data": {
            "text/plain": [
              "2385"
            ]
          },
          "metadata": {},
          "execution_count": 155
        }
      ]
    },
    {
      "cell_type": "code",
      "source": [
        "Scraping_Data_ASM.info()"
      ],
      "metadata": {
        "colab": {
          "base_uri": "https://localhost:8080/"
        },
        "id": "l9JY6cJ7tC-S",
        "outputId": "4d5436aa-82e1-43de-f394-50b9dc4cc7d9"
      },
      "execution_count": null,
      "outputs": [
        {
          "output_type": "stream",
          "name": "stdout",
          "text": [
            "<class 'pandas.core.frame.DataFrame'>\n",
            "Int64Index: 2385 entries, 1716 to 916\n",
            "Data columns (total 2 columns):\n",
            " #   Column   Non-Null Count  Dtype \n",
            "---  ------   --------------  ----- \n",
            " 0   content  2385 non-null   object\n",
            " 1   score    2385 non-null   int64 \n",
            "dtypes: int64(1), object(1)\n",
            "memory usage: 55.9+ KB\n"
          ]
        }
      ]
    },
    {
      "cell_type": "code",
      "source": [
        "Scraping_Data_ASM['score'].value_counts()"
      ],
      "metadata": {
        "colab": {
          "base_uri": "https://localhost:8080/"
        },
        "id": "3Prlovryekjv",
        "outputId": "7c37e13b-db19-47c0-a0dd-95afe847e65c"
      },
      "execution_count": null,
      "outputs": [
        {
          "output_type": "execute_result",
          "data": {
            "text/plain": [
              "5    1195\n",
              "1     790\n",
              "3     170\n",
              "4     120\n",
              "2     110\n",
              "Name: score, dtype: int64"
            ]
          },
          "metadata": {},
          "execution_count": 154
        }
      ]
    },
    {
      "cell_type": "markdown",
      "source": [
        "# PRE-PROCESSING"
      ],
      "metadata": {
        "id": "BnLm4Eaned2Z"
      }
    },
    {
      "cell_type": "code",
      "source": [
        "import nltk\n",
        "nltk.download('punkt')\n",
        "nltk.download('stopwords')\n",
        "nltk.download('wordnet')\n",
        "import re"
      ],
      "metadata": {
        "id": "_xIIpJJTxCHT"
      },
      "execution_count": null,
      "outputs": []
    },
    {
      "cell_type": "markdown",
      "source": [
        "### CLEANING"
      ],
      "metadata": {
        "id": "AIzU1vFqxfqe"
      }
    },
    {
      "cell_type": "code",
      "source": [
        "Scraping_Data_ASM['content'] = Scraping_Data_ASM['content'].str.replace('https\\S+', ' ', case=False)          #hapus URL"
      ],
      "metadata": {
        "id": "CtHfUf0gxiQW"
      },
      "execution_count": null,
      "outputs": []
    },
    {
      "cell_type": "code",
      "source": [
        "Scraping_Data_ASM['content'] = Scraping_Data_ASM['content'].str.replace('@\\S+', ' ', case=False)              #hapus mention"
      ],
      "metadata": {
        "id": "eOUgIBjTx8k6"
      },
      "execution_count": null,
      "outputs": []
    },
    {
      "cell_type": "code",
      "source": [
        "Scraping_Data_ASM['content'] = Scraping_Data_ASM['content'].str.replace('#\\S+', ' ', case=False)              #Hapus hastag"
      ],
      "metadata": {
        "id": "aJjWZMtyyQV5"
      },
      "execution_count": null,
      "outputs": []
    },
    {
      "cell_type": "code",
      "source": [
        "Scraping_Data_ASM['content'] = Scraping_Data_ASM['content'].str.replace(\"\\'\\w+\", ' ', case=False)             #hapus next karakter"
      ],
      "metadata": {
        "id": "VHyXc-CCyao_"
      },
      "execution_count": null,
      "outputs": []
    },
    {
      "cell_type": "code",
      "source": [
        "Scraping_Data_ASM['content'] = Scraping_Data_ASM['content'].str.replace(\"[^\\w\\s]\", ' ', case=False)           #hapus tanda baca"
      ],
      "metadata": {
        "id": "swnEhyWbyas6"
      },
      "execution_count": null,
      "outputs": []
    },
    {
      "cell_type": "code",
      "source": [
        "Scraping_Data_ASM['content'] = Scraping_Data_ASM['content'].str.replace(\"\\s(2)\", ' ', case=False)             #Hapus ekstra whitespace"
      ],
      "metadata": {
        "id": "bggG8fm2y0ex"
      },
      "execution_count": null,
      "outputs": []
    },
    {
      "cell_type": "code",
      "source": [
        "Scraping_Data_ASM['content'] = Scraping_Data_ASM['content'].str.replace('[^\\w\\s#@/:%.,_-]', '', flags=re.UNICODE)"
      ],
      "metadata": {
        "id": "mfseGccey0iX"
      },
      "execution_count": null,
      "outputs": []
    },
    {
      "cell_type": "code",
      "source": [
        "Scraping_Data_ASM.drop_duplicates(subset =\"content\", keep = 'first', inplace = True)"
      ],
      "metadata": {
        "id": "GXzu6PkNy0mO"
      },
      "execution_count": null,
      "outputs": []
    },
    {
      "cell_type": "markdown",
      "source": [
        "## CASE FOLDING"
      ],
      "metadata": {
        "id": "g4nrVwbky7TN"
      }
    },
    {
      "cell_type": "code",
      "source": [
        "Scraping_Data_ASM['content'] = Scraping_Data_ASM['content'].str.lower()"
      ],
      "metadata": {
        "id": "B028OpFNy03O"
      },
      "execution_count": null,
      "outputs": []
    },
    {
      "cell_type": "markdown",
      "source": [
        "## TOKENIZING"
      ],
      "metadata": {
        "id": "bsenn4XEzjB-"
      }
    },
    {
      "cell_type": "code",
      "source": [
        "from nltk.tokenize import RegexpTokenizer                                       #ini library"
      ],
      "metadata": {
        "id": "a1IS5PnQzlxV"
      },
      "execution_count": null,
      "outputs": []
    },
    {
      "cell_type": "markdown",
      "source": [
        "## NORMALIZATION"
      ],
      "metadata": {
        "id": "KdVaKZjHz3zJ"
      }
    },
    {
      "cell_type": "code",
      "source": [],
      "metadata": {
        "id": "MyobvdEIz56W"
      },
      "execution_count": null,
      "outputs": []
    },
    {
      "cell_type": "markdown",
      "source": [
        "## STOPWORD REMOVAL"
      ],
      "metadata": {
        "id": "kRZPqOuez8Gp"
      }
    },
    {
      "cell_type": "code",
      "source": [],
      "metadata": {
        "id": "wnn29BV40Bt6"
      },
      "execution_count": null,
      "outputs": []
    },
    {
      "cell_type": "markdown",
      "source": [
        "## STEMMING"
      ],
      "metadata": {
        "id": "YapLhDFo0CAG"
      }
    },
    {
      "cell_type": "code",
      "source": [],
      "metadata": {
        "id": "suVDXQr50DtS"
      },
      "execution_count": null,
      "outputs": []
    }
  ]
}