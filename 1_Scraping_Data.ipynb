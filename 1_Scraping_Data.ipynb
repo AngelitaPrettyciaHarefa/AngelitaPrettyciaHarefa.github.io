{
  "nbformat": 4,
  "nbformat_minor": 0,
  "metadata": {
    "colab": {
      "provenance": [],
      "authorship_tag": "ABX9TyPqScHxlMASYPwaZjsyNndh",
      "include_colab_link": true
    },
    "kernelspec": {
      "name": "python3",
      "display_name": "Python 3"
    },
    "language_info": {
      "name": "python"
    }
  },
  "cells": [
    {
      "cell_type": "markdown",
      "metadata": {
        "id": "view-in-github",
        "colab_type": "text"
      },
      "source": [
        "<a href=\"https://colab.research.google.com/github/AngelitaPrettyciaHarefa/AngelitaPrettyciaHarefa.github.io/blob/main/1_Scraping_Data.ipynb\" target=\"_parent\"><img src=\"https://colab.research.google.com/assets/colab-badge.svg\" alt=\"Open In Colab\"/></a>"
      ]
    },
    {
      "cell_type": "markdown",
      "source": [
        "Scraping (web scraping) merujuk pada proses ekstraksi data dari halaman web secara otomatis. Ini melibatkan pengambilan informasi struktural dan konten dari halaman web dan menyimpannya dalam format yang dapat digunakan dan dianalisis.\n",
        "\n",
        "Sumber = https://www.youtube.com/watch?v=-CAC4wK9Ey0&ab_channel=VenelinValkov\n",
        "\n",
        "https://towardsdatascience.com/create-dataset-for-sentiment-analysis-by-scraping-google-play-app-reviews-using-python-ceaaa0e41c1"
      ],
      "metadata": {
        "id": "xUcUXukYxbke"
      }
    },
    {
      "cell_type": "code",
      "execution_count": 53,
      "metadata": {
        "id": "9gU0BMd8xM4A"
      },
      "outputs": [],
      "source": [
        "!pip install -qq google-play-scraper"
      ]
    },
    {
      "cell_type": "code",
      "source": [
        "import json\n",
        "import pandas as pd\n",
        "from tqdm import tqdm\n",
        "\n",
        "import seaborn as sns\n",
        "import matplotlib.pyplot as plt\n",
        "\n",
        "from pygments import highlight\n",
        "from pygments.lexers import JsonLexer\n",
        "from pygments.formatters import TerminalFormatter\n",
        "\n",
        "from google_play_scraper import Sort, reviews, app\n",
        "\n",
        "%matplotlib inline\n",
        "%config InlineBackend.figure_format='retina'\n",
        "\n",
        "sns.set(style='whitegrid', palette='muted', font_scale=1.2)"
      ],
      "metadata": {
        "id": "hM0vuM9_5XTE"
      },
      "execution_count": 54,
      "outputs": []
    },
    {
      "cell_type": "code",
      "source": [
        "from google.colab import drive\n",
        "drive.mount('/content/gDrive/', force_remount=True)\n",
        "path = \"gDrive/MyDrive/\""
      ],
      "metadata": {
        "id": "dqLVfnICZ74I"
      },
      "execution_count": null,
      "outputs": []
    },
    {
      "cell_type": "code",
      "source": [
        "app_packages = [\n",
        "    'com.simasmobile.co.id'\n",
        "]"
      ],
      "metadata": {
        "id": "IydamnEz5XVz"
      },
      "execution_count": 56,
      "outputs": []
    },
    {
      "cell_type": "code",
      "source": [
        "app_infos =[]\n",
        "\n",
        "for ap in tqdm(app_packages):\n",
        "  info = app(ap, lang='id', country='id')\n",
        "  del info['comments']\n",
        "  app_infos.append(info)"
      ],
      "metadata": {
        "id": "5k_jauO45XYj"
      },
      "execution_count": null,
      "outputs": []
    },
    {
      "cell_type": "code",
      "source": [
        "def print_json(json_object):\n",
        "  json_str = json.dumps(\n",
        "    json_object,\n",
        "    indent=2,\n",
        "    sort_keys=True,\n",
        "    default=str\n",
        "  )\n",
        "  print(highlight(json_str, JsonLexer(), TerminalFormatter()))"
      ],
      "metadata": {
        "id": "c6LmICdd5Xdu"
      },
      "execution_count": 58,
      "outputs": []
    },
    {
      "cell_type": "code",
      "source": [
        "print_json(app_infos[0])"
      ],
      "metadata": {
        "id": "3RQij3KO5XgW"
      },
      "execution_count": null,
      "outputs": []
    },
    {
      "cell_type": "code",
      "source": [
        "app_infos_df = pd.DataFrame(app_infos)\n",
        "app_infos_df.head(10)"
      ],
      "metadata": {
        "id": "bWr_xlIXCsPM"
      },
      "execution_count": null,
      "outputs": []
    },
    {
      "cell_type": "code",
      "source": [
        "app_infos_df.to_csv('app.csv', index=None, header=True)"
      ],
      "metadata": {
        "id": "A1zcRU9vCsR5"
      },
      "execution_count": 61,
      "outputs": []
    },
    {
      "cell_type": "code",
      "source": [
        "app_infos_df.to_csv(path+'app.csv', index=None, header=True)"
      ],
      "metadata": {
        "id": "c2GKFFqfaWnS"
      },
      "execution_count": 62,
      "outputs": []
    },
    {
      "cell_type": "markdown",
      "source": [
        "GET APP REVIEWS"
      ],
      "metadata": {
        "id": "-tfiewjOEJ6E"
      }
    },
    {
      "cell_type": "code",
      "source": [
        "app_reviews = []\n",
        "\n",
        "for ap in tqdm(app_packages):\n",
        "  for score in list(range(1, 6)):\n",
        "    for sort_order in [Sort.MOST_RELEVANT]:\n",
        "      rvs, _ = reviews(\n",
        "        ap,\n",
        "        lang='id',\n",
        "        country='id',\n",
        "        sort=sort_order,\n",
        "        count= 600,\n",
        "        filter_score_with=score\n",
        "      )\n",
        "      for r in rvs:\n",
        "        r['sortOrder'] = 'most_relevant'\n",
        "        r['appId'] = ap\n",
        "      app_reviews.extend(rvs)"
      ],
      "metadata": {
        "id": "8FH0yxLLCsUl"
      },
      "execution_count": null,
      "outputs": []
    },
    {
      "cell_type": "code",
      "source": [
        "print_json(app_reviews[0])"
      ],
      "metadata": {
        "id": "k68VyWbRCsXn"
      },
      "execution_count": null,
      "outputs": []
    },
    {
      "cell_type": "code",
      "source": [
        "app_reviews_df = pd.DataFrame(app_reviews)\n",
        "app_reviews_df.shape"
      ],
      "metadata": {
        "id": "FTmP37SgIN6f"
      },
      "execution_count": null,
      "outputs": []
    },
    {
      "cell_type": "code",
      "source": [
        "app_reviews_df = app_reviews_df.sort_values(by=\"at\", ascending=False)"
      ],
      "metadata": {
        "id": "jNzN9GddjsB9"
      },
      "execution_count": 118,
      "outputs": []
    },
    {
      "cell_type": "code",
      "source": [
        "app_reviews_df.head(10)"
      ],
      "metadata": {
        "id": "OWuYbF-_IN9Q"
      },
      "execution_count": null,
      "outputs": []
    },
    {
      "cell_type": "code",
      "source": [
        "app_reviews_df.to_csv('reviews.csv', index=None, header=True)"
      ],
      "metadata": {
        "id": "0Ry_l2WGIOC_"
      },
      "execution_count": 120,
      "outputs": []
    },
    {
      "cell_type": "code",
      "source": [
        "app_reviews_df.to_csv(path+'reviews.csv', index=None, header=True)"
      ],
      "metadata": {
        "id": "_TJkgmOXaoDZ"
      },
      "execution_count": 121,
      "outputs": []
    },
    {
      "cell_type": "markdown",
      "source": [
        "DAPAT 479 DATA DENGAN LANG = ID DAN COUNTRY = ID"
      ],
      "metadata": {
        "id": "ggy1xWp_eeVg"
      }
    }
  ]
}